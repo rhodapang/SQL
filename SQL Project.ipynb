{
 "cells": [
  {
   "cell_type": "code",
   "execution_count": 1,
   "metadata": {},
   "outputs": [],
   "source": [
    "import sqlite3"
   ]
  },
  {
   "cell_type": "code",
   "execution_count": null,
   "metadata": {},
   "outputs": [],
   "source": [
    "CREATE TABLE student(\n",
    "    student_id INT PRIMARY KEY AUTO_INCREMENT,\n",
    "    name VARCHAR(20) NOT NULL,\n",
    "    major VARCHAR(20) DEFAULT 'undecided',   \n",
    ");"
   ]
  },
  {
   "cell_type": "code",
   "execution_count": null,
   "metadata": {},
   "outputs": [],
   "source": [
    "DROP TABLE student;\n",
    "ALTER TABLE student ADD gpa DECIMAL(3,2)\n",
    "ALTER TABLE student DROP COLUMN gpa;\n",
    "INSERT INTO student VALUES(1,'Jack','Biology' );\n",
    "INSERT INTO student VALUES(2,'Kate','Sociology');\n",
    "INSERT INTO student(student_id, name) VALLUES(4, 'Peter');\n",
    "INSERT INTO student VALUES(3, 'Jack', 'CS')"
   ]
  },
  {
   "cell_type": "code",
   "execution_count": null,
   "metadata": {},
   "outputs": [],
   "source": [
    "SELECT * FROM student;\n"
   ]
  },
  {
   "cell_type": "code",
   "execution_count": null,
   "metadata": {},
   "outputs": [],
   "source": [
    "# Update \n",
    "UPDATE student\n",
    "SET major ='BIO'\n",
    "WHERE major = 'Biology';\n",
    "\n",
    "UPDATE student\n",
    "SET major = 'Computer Science'\n",
    "WHERE major = 'CS';\n",
    "\n",
    "UPDATE student\n",
    "SET major ='Biochemistry'\n",
    "WHERE major ='Bio' OR major ='Chemistry';\n",
    "\n",
    "UPDATE student\n",
    "SET name = 'Tom', major ='undecided'\n",
    "WHERE student_id =1;"
   ]
  },
  {
   "cell_type": "code",
   "execution_count": null,
   "metadata": {},
   "outputs": [],
   "source": [
    "# DELECT\n",
    "DELECT FROM student\n",
    "WHERE student_id = 5;\n",
    "DELECT FROM student\n",
    "WHERE name = 'Tom' AND major ='undecided';"
   ]
  },
  {
   "cell_type": "code",
   "execution_count": null,
   "metadata": {},
   "outputs": [],
   "source": [
    "SELECT * FROM student;\n",
    "\n",
    "SELECT name FROM student;\n",
    "\n",
    "SELECT name, major FROM student\n",
    "ORDER BY name DESC;\n",
    "\n",
    "SELECT name, major FROM student\n",
    "ORDER BY name, major\n",
    "LIMIT 2;\n",
    "\n",
    "SELECT * FROM student\n",
    "WHERE major ='biology';\n",
    "\n",
    "SELECT name, major FROM student\n",
    "WHERE major ='biology' OR name ='Kate';"
   ]
  },
  {
   "cell_type": "code",
   "execution_count": null,
   "metadata": {},
   "outputs": [],
   "source": []
  },
  {
   "cell_type": "code",
   "execution_count": null,
   "metadata": {},
   "outputs": [],
   "source": []
  },
  {
   "cell_type": "code",
   "execution_count": null,
   "metadata": {},
   "outputs": [],
   "source": []
  },
  {
   "cell_type": "code",
   "execution_count": null,
   "metadata": {},
   "outputs": [],
   "source": []
  },
  {
   "cell_type": "code",
   "execution_count": null,
   "metadata": {},
   "outputs": [],
   "source": []
  },
  {
   "cell_type": "code",
   "execution_count": null,
   "metadata": {},
   "outputs": [],
   "source": []
  }
 ],
 "metadata": {
  "kernelspec": {
   "display_name": "Python 3",
   "language": "python",
   "name": "python3"
  },
  "language_info": {
   "codemirror_mode": {
    "name": "ipython",
    "version": 3
   },
   "file_extension": ".py",
   "mimetype": "text/x-python",
   "name": "python",
   "nbconvert_exporter": "python",
   "pygments_lexer": "ipython3",
   "version": "3.7.3"
  },
  "toc": {
   "base_numbering": 1,
   "nav_menu": {},
   "number_sections": true,
   "sideBar": true,
   "skip_h1_title": false,
   "title_cell": "Table of Contents",
   "title_sidebar": "Contents",
   "toc_cell": false,
   "toc_position": {},
   "toc_section_display": true,
   "toc_window_display": false
  }
 },
 "nbformat": 4,
 "nbformat_minor": 4
}
