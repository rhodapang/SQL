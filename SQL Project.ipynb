{
 "cells": [
  {
   "cell_type": "code",
   "execution_count": 1,
   "metadata": {},
   "outputs": [],
   "source": [
    "import sqlite3"
   ]
  },
  {
   "cell_type": "code",
   "execution_count": null,
   "metadata": {},
   "outputs": [],
   "source": [
    "CREATE TABLE student(\n",
    "    student_id INT PRIMARY KEY AUTO_INCREMENT,\n",
    "    name VARCHAR(20) NOT NULL,\n",
    "    major VARCHAR(20) DEFAULT 'undecided',   \n",
    ");"
   ]
  },
  {
   "cell_type": "code",
   "execution_count": null,
   "metadata": {},
   "outputs": [],
   "source": [
    "DROP TABLE student;\n",
    "ALTER TABLE student ADD gpa DECIMAL(3,2)\n",
    "ALTER TABLE student DROP COLUMN gpa;\n",
    "INSERT INTO student VALUES(1,'Jack','Biology' );\n",
    "INSERT INTO student VALUES(2,'Kate','Sociology');\n",
    "INSERT INTO student(student_id, name) VALLUES(4, 'Peter');\n",
    "INSERT INTO student VALUES(3, 'Jack', 'CS')"
   ]
  },
  {
   "cell_type": "code",
   "execution_count": null,
   "metadata": {},
   "outputs": [],
   "source": [
    "SELECT * FROM student;\n"
   ]
  },
  {
   "cell_type": "code",
   "execution_count": null,
   "metadata": {},
   "outputs": [],
   "source": [
    "# Update \n",
    "UPDATE student\n",
    "SET major ='BIO'\n",
    "WHERE major = 'Biology';\n",
    "\n",
    "UPDATE student\n",
    "SET major = 'Computer Science'\n",
    "WHERE major = 'CS';\n",
    "\n",
    "UPDATE student\n",
    "SET major ='Biochemistry'\n",
    "WHERE major ='Bio' OR major ='Chemistry';\n",
    "\n",
    "UPDATE student\n",
    "SET name = 'Tom', major ='undecided'\n",
    "WHERE student_id =1;"
   ]
  },
  {
   "cell_type": "code",
   "execution_count": null,
   "metadata": {},
   "outputs": [],
   "source": [
    "# DELECT\n",
    "DELECT FROM student\n",
    "WHERE student_id = 5;\n",
    "DELECT FROM student\n",
    "WHERE name = 'Tom' AND major ='undecided';"
   ]
  },
  {
   "cell_type": "code",
   "execution_count": null,
   "metadata": {},
   "outputs": [],
   "source": [
    "SELECT * FROM student;\n",
    "\n",
    "SELECT name FROM student;\n",
    "\n",
    "SELECT name, major FROM student\n",
    "ORDER BY name DESC;\n",
    "\n",
    "SELECT name, major FROM student\n",
    "ORDER BY name, major\n",
    "LIMIT 2;\n",
    "\n",
    "SELECT * FROM student\n",
    "WHERE major ='biology';\n",
    "\n",
    "SELECT name, major FROM student\n",
    "WHERE major ='biology' OR name ='Kate';"
   ]
  },
  {
   "cell_type": "code",
   "execution_count": null,
   "metadata": {},
   "outputs": [],
   "source": [
    "SELECT * FROM student\n",
    "WHERE major IN ('Biology','Chemisty') AND student_id > 3;"
   ]
  },
  {
   "cell_type": "code",
   "execution_count": null,
   "metadata": {},
   "outputs": [],
   "source": [
    "# Complex sql"
   ]
  },
  {
   "cell_type": "code",
   "execution_count": null,
   "metadata": {},
   "outputs": [],
   "source": [
    "CREATE TABLE employee(\n",
    "    emp_id INT PRIMARY KEY,\n",
    "    first_name VARCHAR(40),\n",
    "    last_name VARCHAR(40),\n",
    "    birth_day DATE,\n",
    "    sex VARCHAR(1),\n",
    "    salary INT,\n",
    "    super_id INT,\n",
    "    branch_id INT,\n",
    ");"
   ]
  },
  {
   "cell_type": "code",
   "execution_count": null,
   "metadata": {},
   "outputs": [],
   "source": [
    "CREATE TABLE branch(\n",
    "    branch_id INT PRIMARY KEY,\n",
    "    branch_name VARCHAR(40),\n",
    "    mgr_id INT,\n",
    "    mgr_start_date DATE,\n",
    "    FOREIGH KEY(mgr_id) REFERENCES employee(emp_id) ON DELETE SET NULL    \n",
    ");"
   ]
  },
  {
   "cell_type": "code",
   "execution_count": null,
   "metadata": {},
   "outputs": [],
   "source": [
    "ALTER TABLE employee\n",
    "ADD FOREIGN KEY(branch_id)\n",
    "REFERENCE branch(branch_id)\n",
    "ON DELECT SET NULL;"
   ]
  },
  {
   "cell_type": "code",
   "execution_count": null,
   "metadata": {},
   "outputs": [],
   "source": [
    "SElECT * FROM employees;\n",
    "\n",
    "SELECT * FROM clients;\n",
    "\n",
    "SELECT salary FROM employees\n",
    "ORDER BY salary DESC;\n"
   ]
  },
  {
   "cell_type": "code",
   "execution_count": null,
   "metadata": {},
   "outputs": [],
   "source": [
    "SELECT COUNT(emp_id) FROM employees;"
   ]
  },
  {
   "cell_type": "code",
   "execution_count": null,
   "metadata": {},
   "outputs": [],
   "source": [
    "ALTER TABLE student ADD gpa DECIMAL(3,2);"
   ]
  },
  {
   "cell_type": "code",
   "execution_count": null,
   "metadata": {},
   "outputs": [],
   "source": [
    "ALTER TABLE student DROP column name;"
   ]
  },
  {
   "cell_type": "code",
   "execution_count": null,
   "metadata": {},
   "outputs": [],
   "source": [
    "INSERT INTO student VALUES(1,'Jack','Biology');\n",
    "INSERT INTO student VALUES(2,'Kate','Sociolgy');\n",
    "INSERT INTO student(student_id, name) VALUES(3, 'Claire')"
   ]
  },
  {
   "cell_type": "code",
   "execution_count": null,
   "metadata": {},
   "outputs": [],
   "source": [
    "SELECT * FROM student;"
   ]
  },
  {
   "cell_type": "code",
   "execution_count": null,
   "metadata": {},
   "outputs": [],
   "source": [
    "CREATE TABLE student(\n",
    "    student_id INT AUTO_INCREMENT,\n",
    "    name VACHAR(20) NOT NULL,\n",
    "    major VARCHAR(20) DEFAULT 'undecided',\n",
    "    PRIMARY KEY(student_id)\n",
    ")"
   ]
  },
  {
   "cell_type": "code",
   "execution_count": null,
   "metadata": {},
   "outputs": [],
   "source": [
    "INSERT INTO student(student_id, name,major) VALUE(1, 'Jack','CS')"
   ]
  },
  {
   "cell_type": "code",
   "execution_count": null,
   "metadata": {},
   "outputs": [],
   "source": [
    "UPDATE student \n",
    "SET major ='Bio'\n",
    "WHERE major ='Biology';"
   ]
  },
  {
   "cell_type": "code",
   "execution_count": null,
   "metadata": {},
   "outputs": [],
   "source": [
    "UPDATE student\n",
    "SET major ='CS'\n",
    "WHERE  major ='Computer Science';"
   ]
  },
  {
   "cell_type": "code",
   "execution_count": null,
   "metadata": {},
   "outputs": [],
   "source": [
    "UPDATE student\n",
    "SET major = 'Biochemistry'\n",
    "WHERE major = 'Bio' OR major ='Chemistry';"
   ]
  },
  {
   "cell_type": "code",
   "execution_count": null,
   "metadata": {},
   "outputs": [],
   "source": [
    "UPDATE student \n",
    "SET name ='Tom', major = 'undecided'\n",
    "WHERE student_id = 1;"
   ]
  },
  {
   "cell_type": "code",
   "execution_count": null,
   "metadata": {},
   "outputs": [],
   "source": [
    "DELETE FROM student\n",
    "WHERE name = 'Tom' AND major = 'undecided';"
   ]
  },
  {
   "cell_type": "code",
   "execution_count": null,
   "metadata": {},
   "outputs": [],
   "source": [
    "DELECT FROM student;"
   ]
  },
  {
   "cell_type": "code",
   "execution_count": null,
   "metadata": {},
   "outputs": [],
   "source": [
    "SELECT * FROM student;\n",
    "SELECT name FROM student\n",
    "ORDER BY name DESC\n",
    "LIMIT 2;"
   ]
  },
  {
   "cell_type": "code",
   "execution_count": null,
   "metadata": {},
   "outputs": [],
   "source": [
    "SELECT name, major\n",
    "FROM student\n",
    "WHERE major = 'Chemisty' OR major ='Biology';"
   ]
  },
  {
   "cell_type": "code",
   "execution_count": null,
   "metadata": {},
   "outputs": [],
   "source": [
    "SELECT name FROM student\n",
    "WHERE major <> 'Chemistry';"
   ]
  },
  {
   "cell_type": "code",
   "execution_count": null,
   "metadata": {},
   "outputs": [],
   "source": [
    "DROP TABLE student；"
   ]
  },
  {
   "cell_type": "code",
   "execution_count": null,
   "metadata": {},
   "outputs": [],
   "source": [
    "CREATE TABLE employee (\n",
    "    emp_id PRIMARY KEY,\n",
    "    first_name VARCHAR(40),\n",
    "    last_name VARCHAR(40),\n",
    "    birth_day DATE,\n",
    "    sex VARCHAR(1)\n",
    "    salary INT,\n",
    "    super_id INT,\n",
    "    branch_id INT\n",
    "    );\n"
   ]
  },
  {
   "cell_type": "code",
   "execution_count": null,
   "metadata": {},
   "outputs": [],
   "source": [
    "CREATE TABLE branch(\n",
    "    branch_id INT PRIMARY KEY,\n",
    "    branch_id INT VARCHAR(40),\n",
    "    mgr_id INT,\n",
    "    mgr_start_date DATE,\n",
    "    FOREIGN KEY(mgr_id) REFERENCE employee(emp_id) ON DELETE SET NULL );"
   ]
  },
  {
   "cell_type": "code",
   "execution_count": null,
   "metadata": {},
   "outputs": [],
   "source": [
    "ALTER TABLE employee\n",
    "ADD FOREIGN KEY(branch_id)\n",
    "REFERENCES branch(branch_id)\n",
    "ON DELETE SET NULL;"
   ]
  },
  {
   "cell_type": "code",
   "execution_count": null,
   "metadata": {},
   "outputs": [],
   "source": [
    "ALTER TABLE employee\n",
    "ADD FOREIGN KEY(super_id)\n",
    "REFERENCE employee(emp_id)\n",
    "ON DELETE S"
   ]
  },
  {
   "cell_type": "code",
   "execution_count": null,
   "metadata": {},
   "outputs": [],
   "source": []
  },
  {
   "cell_type": "code",
   "execution_count": null,
   "metadata": {},
   "outputs": [],
   "source": []
  },
  {
   "cell_type": "code",
   "execution_count": null,
   "metadata": {},
   "outputs": [],
   "source": []
  }
 ],
 "metadata": {
  "kernelspec": {
   "display_name": "Python 3",
   "language": "python",
   "name": "python3"
  },
  "language_info": {
   "codemirror_mode": {
    "name": "ipython",
    "version": 3
   },
   "file_extension": ".py",
   "mimetype": "text/x-python",
   "name": "python",
   "nbconvert_exporter": "python",
   "pygments_lexer": "ipython3",
   "version": "3.7.3"
  },
  "toc": {
   "base_numbering": 1,
   "nav_menu": {},
   "number_sections": true,
   "sideBar": true,
   "skip_h1_title": false,
   "title_cell": "Table of Contents",
   "title_sidebar": "Contents",
   "toc_cell": false,
   "toc_position": {},
   "toc_section_display": true,
   "toc_window_display": false
  }
 },
 "nbformat": 4,
 "nbformat_minor": 4
}
